{
 "cells": [
  {
   "cell_type": "markdown",
   "metadata": {},
   "source": []
  },
  {
   "cell_type": "code",
   "execution_count": 22,
   "metadata": {},
   "outputs": [],
   "source": [
    "from faker import Faker\n",
    "from pydbgen import pydbgen\n",
    "import pandas as pd\n",
    "import random\n",
    "import datetime\n",
    "\n",
    "fake = Faker()\n",
    "ourDB = pydbgen.pydb();"
   ]
  },
  {
   "cell_type": "code",
   "execution_count": 23,
   "metadata": {},
   "outputs": [
    {
     "data": {
      "text/plain": [
       "{'job': 'Scientist, product/process development',\n",
       " 'company': 'Deleon and Sons',\n",
       " 'ssn': '678-44-1829',\n",
       " 'residence': '8718 Kristi Cove Apt. 540\\nWest Melindaland, FL 86490',\n",
       " 'current_location': (Decimal('-53.322899'), Decimal('57.660163')),\n",
       " 'blood_group': 'AB-',\n",
       " 'website': ['http://williams-morgan.com/'],\n",
       " 'username': 'beasleygregory',\n",
       " 'name': 'Renee Arnold',\n",
       " 'sex': 'F',\n",
       " 'address': '37201 Madison Curve\\nStuartland, TX 31488',\n",
       " 'mail': 'anthony87@yahoo.com',\n",
       " 'birthdate': datetime.date(1970, 11, 1)}"
      ]
     },
     "execution_count": 23,
     "metadata": {},
     "output_type": "execute_result"
    }
   ],
   "source": [
    "\n",
    "fake.profile()\n",
    "\n"
   ]
  },
  {
   "cell_type": "code",
   "execution_count": 20,
   "metadata": {},
   "outputs": [
    {
     "data": {
      "text/html": [
       "<div>\n",
       "<style scoped>\n",
       "    .dataframe tbody tr th:only-of-type {\n",
       "        vertical-align: middle;\n",
       "    }\n",
       "\n",
       "    .dataframe tbody tr th {\n",
       "        vertical-align: top;\n",
       "    }\n",
       "\n",
       "    .dataframe thead th {\n",
       "        text-align: right;\n",
       "    }\n",
       "</style>\n",
       "<table border=\"1\" class=\"dataframe\">\n",
       "  <thead>\n",
       "    <tr style=\"text-align: right;\">\n",
       "      <th></th>\n",
       "      <th>username</th>\n",
       "      <th>name</th>\n",
       "      <th>sex</th>\n",
       "      <th>address</th>\n",
       "      <th>mail</th>\n",
       "      <th>birthdate</th>\n",
       "    </tr>\n",
       "  </thead>\n",
       "  <tbody>\n",
       "    <tr>\n",
       "      <th>0</th>\n",
       "      <td>jonesangela</td>\n",
       "      <td>Robin Perkins</td>\n",
       "      <td>F</td>\n",
       "      <td>6577 Brown Haven Apt. 384\\nHeathershire, MT 70293</td>\n",
       "      <td>mathislori@yahoo.com</td>\n",
       "      <td>1972-08-02</td>\n",
       "    </tr>\n",
       "    <tr>\n",
       "      <th>1</th>\n",
       "      <td>xmoore</td>\n",
       "      <td>Edwin Tyler</td>\n",
       "      <td>M</td>\n",
       "      <td>778 Maynard Drives Suite 629\\nBryanthaven, NC ...</td>\n",
       "      <td>bmorris@hotmail.com</td>\n",
       "      <td>1911-04-29</td>\n",
       "    </tr>\n",
       "    <tr>\n",
       "      <th>2</th>\n",
       "      <td>tdaniels</td>\n",
       "      <td>Steven Marshall</td>\n",
       "      <td>M</td>\n",
       "      <td>3123 West Causeway\\nEast Rhondaport, NM 12707</td>\n",
       "      <td>barkerroberta@hotmail.com</td>\n",
       "      <td>1957-12-08</td>\n",
       "    </tr>\n",
       "    <tr>\n",
       "      <th>3</th>\n",
       "      <td>aguilarlawrence</td>\n",
       "      <td>Steve Lucas</td>\n",
       "      <td>M</td>\n",
       "      <td>9248 Jones Island Suite 249\\nFordport, MO 21173</td>\n",
       "      <td>danielmathis@yahoo.com</td>\n",
       "      <td>2000-07-09</td>\n",
       "    </tr>\n",
       "    <tr>\n",
       "      <th>4</th>\n",
       "      <td>douglasjason</td>\n",
       "      <td>Leah Martinez</td>\n",
       "      <td>F</td>\n",
       "      <td>55786 Michael Views Suite 665\\nLake Sharonbury...</td>\n",
       "      <td>rogerskimberly@yahoo.com</td>\n",
       "      <td>1949-12-18</td>\n",
       "    </tr>\n",
       "  </tbody>\n",
       "</table>\n",
       "</div>"
      ],
      "text/plain": [
       "          username             name sex  \\\n",
       "0      jonesangela    Robin Perkins   F   \n",
       "1           xmoore      Edwin Tyler   M   \n",
       "2         tdaniels  Steven Marshall   M   \n",
       "3  aguilarlawrence      Steve Lucas   M   \n",
       "4     douglasjason    Leah Martinez   F   \n",
       "\n",
       "                                             address  \\\n",
       "0  6577 Brown Haven Apt. 384\\nHeathershire, MT 70293   \n",
       "1  778 Maynard Drives Suite 629\\nBryanthaven, NC ...   \n",
       "2      3123 West Causeway\\nEast Rhondaport, NM 12707   \n",
       "3    9248 Jones Island Suite 249\\nFordport, MO 21173   \n",
       "4  55786 Michael Views Suite 665\\nLake Sharonbury...   \n",
       "\n",
       "                        mail   birthdate  \n",
       "0       mathislori@yahoo.com  1972-08-02  \n",
       "1        bmorris@hotmail.com  1911-04-29  \n",
       "2  barkerroberta@hotmail.com  1957-12-08  \n",
       "3     danielmathis@yahoo.com  2000-07-09  \n",
       "4   rogerskimberly@yahoo.com  1949-12-18  "
      ]
     },
     "execution_count": 20,
     "metadata": {},
     "output_type": "execute_result"
    }
   ],
   "source": [
    "def make_profile(y):\n",
    "    profiles = pd.DataFrame([fake.simple_profile() for i in range(y)])\n",
    "    profiles_created = datetime.datetime.now\n",
    "    return profiles\n",
    "\n",
    "profiles = make_profile(1000)\n",
    "profiles.head()"
   ]
  },
  {
   "cell_type": "code",
   "execution_count": 21,
   "metadata": {},
   "outputs": [
    {
     "ename": "SyntaxError",
     "evalue": "invalid syntax (<ipython-input-21-305fb5801931>, line 4)",
     "output_type": "error",
     "traceback": [
      "\u001b[1;36m  File \u001b[1;32m\"<ipython-input-21-305fb5801931>\"\u001b[1;36m, line \u001b[1;32m4\u001b[0m\n\u001b[1;33m    db_file = 'testing_customer',\u001b[0m\n\u001b[1;37m            ^\u001b[0m\n\u001b[1;31mSyntaxError\u001b[0m\u001b[1;31m:\u001b[0m invalid syntax\n"
     ]
    }
   ],
   "source": [
    "myDB.gen_table(100, fields = ['id' , 'first_name', 'last_name', 'house_number',\n",
    "                            'locality', 'city', 'state', 'pincode', 'email_address',\n",
    "                            'password',\n",
    "                             = 'testing_customer',\n",
    "                            primary_key = 'id', real_city = True]\n",
    "\n"
   ]
  },
  {
   "cell_type": "code",
   "execution_count": 29,
   "metadata": {},
   "outputs": [
    {
     "name": "stdout",
     "output_type": "stream",
     "text": [
      "Catherine Evans\n",
      "22866 Koch Village Suite 121\n",
      "New Christopher, HI 75040\n"
     ]
    }
   ],
   "source": [
    "name = fake.name(); print(name);\n",
    "print(fake.address());\n"
   ]
  }
 ],
 "metadata": {
  "interpreter": {
   "hash": "e04390b745d7540077d5afc7ea9b350ff3db0922faee759c3145cf85f5ee4c0c"
  },
  "kernelspec": {
   "display_name": "Python 3.8.8 ('base')",
   "language": "python",
   "name": "python3"
  },
  "language_info": {
   "codemirror_mode": {
    "name": "ipython",
    "version": 3
   },
   "file_extension": ".py",
   "mimetype": "text/x-python",
   "name": "python",
   "nbconvert_exporter": "python",
   "pygments_lexer": "ipython3",
   "version": "3.8.8"
  },
  "orig_nbformat": 4
 },
 "nbformat": 4,
 "nbformat_minor": 2
}
