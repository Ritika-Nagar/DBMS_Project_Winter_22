{
 "cells": [
  {
   "cell_type": "code",
   "execution_count": 4,
   "metadata": {},
   "outputs": [],
   "source": [
    "from faker import Faker\n",
    "from pydbgen import pydbgen\n",
    "import pandas as pd\n",
    "import random\n",
    "import datetime\n",
    "\n",
    "fake = Faker()\n",
    "ourDB = pydbgen.pydb();"
   ]
  },
  {
   "cell_type": "code",
   "execution_count": 6,
   "metadata": {},
   "outputs": [
    {
     "data": {
      "text/plain": [
       "{'job': 'Designer, ceramics/pottery',\n",
       " 'company': 'Campbell PLC',\n",
       " 'ssn': '804-85-8178',\n",
       " 'residence': '963 John Light\\nPort Jill, DC 64640',\n",
       " 'current_location': (Decimal('-53.634533'), Decimal('-147.246404')),\n",
       " 'blood_group': 'O-',\n",
       " 'website': ['http://www.harrington-weaver.com/',\n",
       "  'http://www.sanders.com/',\n",
       "  'http://www.jackson.com/'],\n",
       " 'username': 'skim',\n",
       " 'name': 'Cheryl Johnson',\n",
       " 'sex': 'F',\n",
       " 'address': '90329 Robinson Crossing\\nNorth Jack, MT 03679',\n",
       " 'mail': 'shawn41@gmail.com',\n",
       " 'birthdate': datetime.date(1919, 11, 13)}"
      ]
     },
     "execution_count": 6,
     "metadata": {},
     "output_type": "execute_result"
    }
   ],
   "source": [
    "\n",
    "fake.profile()\n",
    "\n",
    "def make_profile(x,y):\n",
    "    \n"
   ]
  }
 ],
 "metadata": {
  "interpreter": {
   "hash": "e04390b745d7540077d5afc7ea9b350ff3db0922faee759c3145cf85f5ee4c0c"
  },
  "kernelspec": {
   "display_name": "Python 3.8.8 ('base')",
   "language": "python",
   "name": "python3"
  },
  "language_info": {
   "codemirror_mode": {
    "name": "ipython",
    "version": 3
   },
   "file_extension": ".py",
   "mimetype": "text/x-python",
   "name": "python",
   "nbconvert_exporter": "python",
   "pygments_lexer": "ipython3",
   "version": "3.8.8"
  },
  "orig_nbformat": 4
 },
 "nbformat": 4,
 "nbformat_minor": 2
}
