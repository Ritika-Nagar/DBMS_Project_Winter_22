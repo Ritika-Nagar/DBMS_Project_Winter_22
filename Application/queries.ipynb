{
 "cells": [
  {
   "cell_type": "code",
   "execution_count": 2,
   "metadata": {},
   "outputs": [],
   "source": [
    "import mysql.connector"
   ]
  },
  {
   "cell_type": "code",
   "execution_count": 5,
   "metadata": {},
   "outputs": [],
   "source": [
    "mydb = mysql.connector.connect(host = \"localhost\",\n",
    "                               user = \"root\",\n",
    "                               password = \"Madhava2207\",\n",
    "                               database = \"online_shopping\")\n",
    "\n",
    "\n",
    "cursor = mydb.cursor(buffered = True)\n"
   ]
  },
  {
   "cell_type": "code",
   "execution_count": 50,
   "metadata": {},
   "outputs": [
    {
     "name": "stdout",
     "output_type": "stream",
     "text": [
      "total number of rows in the table 100\n",
      "(Decimal('1'), 'Shurlock', 'Sadgrove', Decimal('3978'), 'Eastlawn', 'Na Muen', Decimal('872979'), 'ssadgrove0@sitemeter.com', 'LJc5AVRCdR')\n",
      "(Decimal('2'), 'Allin', 'Millward', Decimal('77919'), 'Gerald', 'Erie', Decimal('469017'), 'amillward1@techcrunch.com', 'Cg8hpuQk2zK')\n",
      "(Decimal('3'), 'Algernon', 'Clemoes', Decimal('2140'), 'Menomonie', 'Mulan', Decimal('739352'), 'aclemoes2@stumbleupon.com', 'teh1Xj')\n",
      "(Decimal('4'), 'Mariele', 'Eady', Decimal('3'), 'Montana', 'Riyadh', Decimal('674094'), 'meady3@topsy.com', 'n3pq9BM')\n",
      "(Decimal('5'), 'Forrest', 'Silcock', Decimal('5'), 'Barnett', 'Ponikiew', Decimal('288549'), 'fsilcock4@1688.com', 'wGmQ0qd')\n",
      "(Decimal('6'), 'Cherilyn', 'Stubbs', Decimal('1'), 'Oriole', 'Talacogon', Decimal('326232'), 'cstubbs5@abc.net.au', 'K4B2VeOX')\n",
      "(Decimal('7'), 'Pegeen', 'Belfelt', Decimal('5932'), 'Kenwood', 'Toritama', Decimal('109048'), 'pbelfelt6@npr.org', 'j2XLLuhoZ3O')\n",
      "(Decimal('8'), 'Niki', 'Shaddock', Decimal('2102'), 'Linden', 'Al Metlaoui', Decimal('449833'), 'nshaddock7@cloudflare.com', '8z4SFkBS3lcb')\n",
      "(Decimal('9'), 'Agneta', 'Shawcross', Decimal('7'), 'Meadow Valley', 'Štítina', Decimal('607446'), 'ashawcross8@1und1.de', 'c5hGjO5lHyK')\n",
      "(Decimal('10'), 'Murry', 'Shepstone', Decimal('3359'), 'Esker', 'Luoshanchuan', Decimal('791387'), 'mshepstone9@prweb.com', '1roHumY')\n",
      "(Decimal('11'), 'Shawnee', 'Mertin', Decimal('246'), 'Sloan', 'Zhoupi', Decimal('181088'), 'smertina@a8.net', 'CpHo4JRlq')\n",
      "(Decimal('12'), 'Tadeas', 'Rennels', Decimal('8863'), 'Dakota', 'Menghai', Decimal('492017'), 'trennelsb@istockphoto.com', 'wgVf82aDC')\n",
      "(Decimal('13'), 'Feodor', 'Kernermann', Decimal('93674'), 'Karstens', 'Tukan', Decimal('852903'), 'fkernermannc@disqus.com', 'SWQJXPM7Ag')\n",
      "(Decimal('14'), 'Wadsworth', 'Scatchar', Decimal('4503'), 'Oak Valley', 'Girihieum', Decimal('634139'), 'wscatchard@economist.com', 'MhhrEC')\n",
      "(Decimal('15'), 'Gabrielle', 'Kwiek', Decimal('5021'), 'Transport', 'Taquile', Decimal('988281'), 'gkwieke@arstechnica.com', 'WIHkBC1J9kWv')\n",
      "(Decimal('16'), 'Richmond', 'Pimblott', Decimal('4'), 'Talisman', 'Ducheng', Decimal('802493'), 'rpimblottf@amazon.co.jp', 'kf82Cu1bD7')\n",
      "(Decimal('17'), 'Alberik', 'Galtone', Decimal('47'), 'Arkansas', 'Le Lamentin', Decimal('421659'), 'agaltoneg@e-recht24.de', '3DiCYNMMD')\n",
      "(Decimal('18'), 'Cacilie', 'Gerriessen', Decimal('821'), 'Pankratz', 'Laveiras', Decimal('785517'), 'cgerriessenh@youtu.be', 'ONcE64l1iH')\n",
      "(Decimal('19'), 'Tabbi', \"O'Sullivan\", Decimal('5956'), 'Southridge', 'Sinop', Decimal('888060'), 'tosullivani@stumbleupon.com', 'tcONFUnZXF')\n",
      "(Decimal('20'), 'Lenore', 'Folshom', Decimal('8'), 'Tony', 'Tatuí', Decimal('658205'), 'lfolshomj@printfriendly.com', 'VuXYEb8tXAB')\n",
      "(Decimal('21'), 'Padraic', 'Cogle', Decimal('64'), 'Melvin', 'Cumming', Decimal('661872'), 'pcoglek@topsy.com', 'EvyCfgFKse')\n",
      "(Decimal('22'), 'Zolly', 'Malarkey', Decimal('9438'), 'Acker', 'Svojat', Decimal('411467'), 'zmalarkeyl@sakura.ne.jp', 'AnUdJjrAN7')\n",
      "(Decimal('23'), 'Judd', 'Langmead', Decimal('797'), 'Browning', 'Courbevoie', Decimal('393126'), 'jlangmeadm@timesonline.co.uk', 'YEZFQC9bONOH')\n",
      "(Decimal('24'), 'Dex', 'Posnett', Decimal('4'), 'Havey', 'Río Tercero', Decimal('996342'), 'dposnettn@walmart.com', 'gx4V7GL')\n",
      "(Decimal('25'), 'Jeralee', 'McGraffin', Decimal('1'), 'Nelson', 'Gensi', Decimal('235624'), 'jmcgraffino@psu.edu', 'fKenm2cCKwH5')\n",
      "(Decimal('26'), 'Alley', 'Gorner', Decimal('78024'), 'Pennsylvania', 'Fort-de-France', Decimal('516120'), 'agornerp@redcross.org', 'EWnPxB')\n",
      "(Decimal('27'), 'Rafe', 'Handyside', Decimal('29511'), 'Old Shore', 'Nobeoka', Decimal('348756'), 'rhandysideq@imgur.com', 'jceTSO')\n",
      "(Decimal('28'), 'Reena', 'Riccioppo', Decimal('33882'), 'Superior', 'Seoul', Decimal('933245'), 'rriccioppor@flickr.com', '9Z32nhSHtuL')\n",
      "(Decimal('29'), 'Jodie', 'Dunderdale', Decimal('7'), 'Buell', 'Bhola', Decimal('784878'), 'jdunderdales@simplemachines.org', 'QGOwj4XQ8xqF')\n",
      "(Decimal('30'), 'Felita', 'Durno', Decimal('656'), 'Shopko', 'Gwandu', Decimal('749587'), 'fdurnot@icq.com', 'Mxrt3Yfp6VY')\n",
      "(Decimal('31'), 'Joel', 'Jewson', Decimal('889'), 'Anzinger', 'El Benque', Decimal('722249'), 'jjewsonu@state.gov', '0wnexwJsAv')\n",
      "(Decimal('32'), 'Henderson', 'Choppen', Decimal('46919'), 'Montana', 'Bhola', Decimal('256803'), 'hchoppenv@usgs.gov', 'b8JQyr')\n",
      "(Decimal('33'), 'Odelia', 'Di Maria', Decimal('7141'), 'Mitchell', 'Bilo', Decimal('355193'), 'odimariaw@cdbaby.com', 'v4kprbjWShKD')\n",
      "(Decimal('34'), 'Otha', 'Petrecz', Decimal('7'), 'Thackeray', 'Staraya Toropa', Decimal('288586'), 'opetreczx@bravesites.com', 'yRJbQolb')\n",
      "(Decimal('35'), 'Earl', 'Side', Decimal('8'), 'Del Mar', 'Changping', Decimal('915489'), 'esidey@hp.com', 'VFIv5CCBl')\n",
      "(Decimal('36'), 'Casie', 'Grichukhin', Decimal('87'), 'Fallview', 'Kurjan', Decimal('823582'), 'cgrichukhinz@cdbaby.com', 'mowIb8k41XVc')\n",
      "(Decimal('37'), 'Demetri', 'Speechly', Decimal('990'), 'Golf', 'Plato', Decimal('158783'), 'dspeechly10@bluehost.com', 'gtiUH5uvDn')\n",
      "(Decimal('38'), 'Ruby', 'Atkyns', Decimal('485'), 'Anthes', 'Donghoufang', Decimal('269929'), 'ratkyns11@howstuffworks.com', 'ZqcGa5VNKG6x')\n",
      "(Decimal('39'), 'Jervis', 'Winfindine', Decimal('3062'), 'Larry', 'Mae Ramat', Decimal('124823'), 'jwinfindine12@dmoz.org', 'iceAecpqy7de')\n",
      "(Decimal('40'), 'Cindra', 'Hapke', Decimal('1'), 'Fordem', 'Yazykovo', Decimal('596481'), 'chapke13@lulu.com', 'iJkM6x1oBR')\n",
      "(Decimal('41'), 'Gaynor', 'Fernihough', Decimal('399'), 'Loftsgordon', 'Socorro', Decimal('500461'), 'gfernihough14@hao123.com', 'vTG49YIC1Vn')\n",
      "(Decimal('42'), 'Roseann', 'Cosstick', Decimal('279'), 'Fieldstone', 'Dengzhou', Decimal('574076'), 'rcosstick15@amazon.de', 'IV3hU2WAD')\n",
      "(Decimal('43'), 'Roberto', 'Pauluzzi', Decimal('46772'), 'Del Sol', 'Kingersheim', Decimal('978567'), 'rpauluzzi16@taobao.com', 'yGnqtDeYETkf')\n",
      "(Decimal('44'), 'Kellia', 'Wolfendell', Decimal('22'), 'Kedzie', 'Uhniv', Decimal('546114'), 'kwolfendell17@ocn.ne.jp', 'PqYGvrA')\n",
      "(Decimal('45'), 'Phineas', 'Vel', Decimal('82739'), 'Sloan', 'Mossoró', Decimal('793548'), 'pvel18@jalbum.net', 'tnQJcLi')\n",
      "(Decimal('46'), 'Lawrence', 'Wainscoat', Decimal('17'), 'Maywood', 'Palmeira das Missões', Decimal('289412'), 'lwainscoat19@last.fm', '7I9MiqQskipQ')\n",
      "(Decimal('47'), 'Ruddie', 'Ivashkov', Decimal('4'), 'Summerview', 'Třešť', Decimal('496617'), 'rivashkov1a@nsw.gov.au', 'sPzc3XgAC')\n",
      "(Decimal('48'), 'Con', 'Rentoll', Decimal('6'), 'Kropf', 'Wangfu', Decimal('779298'), 'crentoll1b@reverbnation.com', 'poTRTk')\n",
      "(Decimal('49'), 'Bill', 'Rattery', Decimal('4618'), 'Welch', 'Bác Ái', Decimal('516646'), 'brattery1c@mapy.cz', 'FWmuWOu')\n",
      "(Decimal('50'), 'Nanette', 'Mahomet', Decimal('83033'), 'Heath', 'Mossoró', Decimal('146891'), 'nmahomet1d@usa.gov', 'KahdGEG')\n",
      "(Decimal('51'), 'Correna', 'Northcott', Decimal('9736'), 'Arrowood', 'Monteiro', Decimal('898761'), 'cnorthcott1e@omniture.com', 'nXpVHgs')\n",
      "(Decimal('52'), 'Blondelle', 'Tomadoni', Decimal('37284'), 'Eastwood', 'Trollhättan', Decimal('292747'), 'btomadoni1f@globo.com', 'n5ZIeU')\n",
      "(Decimal('53'), 'Wildon', 'McMylor', Decimal('647'), 'Donald', 'Tsagaanchuluut', Decimal('461551'), 'wmcmylor1g@yahoo.co.jp', 'ruTdgV6uNB7')\n",
      "(Decimal('54'), 'Clywd', 'Capstake', Decimal('4574'), 'Ridge Oak', 'Sharkawshchyna', Decimal('350734'), 'ccapstake1h@wikimedia.org', 'MorGhJ')\n",
      "(Decimal('55'), 'Zacharias', 'Adair', Decimal('7'), 'Washington', 'Porsgrunn', Decimal('619140'), 'zadair1i@shop-pro.jp', 'r8nqcFT')\n",
      "(Decimal('56'), 'Munroe', 'Tucsell', Decimal('2062'), 'Kennedy', 'Sedlice', Decimal('111241'), 'mtucsell1j@addtoany.com', 'pMIB7l')\n",
      "(Decimal('57'), 'Neville', 'Jemison', Decimal('4'), 'New Castle', 'Yuannan', Decimal('101129'), 'njemison1k@cbc.ca', 'qm3UUbgHQ')\n",
      "(Decimal('58'), 'Sherye', 'Hallatt', Decimal('9070'), 'Garrison', 'Sedlice', Decimal('181954'), 'shallatt1l@bravesites.com', 'OjTiRF2bMlXw')\n",
      "(Decimal('59'), 'Siffre', 'Christophersen', Decimal('2'), 'Pearson', 'Banjar Tegal Belodan', Decimal('567655'), 'schristophersen1m@mit.edu', 'aVcGtG8rKFa')\n",
      "(Decimal('60'), 'Carol-jean', 'Spurryer', Decimal('8423'), 'Toban', 'Donetsk', Decimal('683752'), 'cspurryer1n@gnu.org', 'AI8Bm7n')\n",
      "(Decimal('61'), 'Nefen', 'Biskup', Decimal('67310'), 'Eggendart', 'Banjar Batuaji Kaja', Decimal('511481'), 'nbiskup1o@microsoft.com', 'ciiU0ZniwO')\n",
      "(Decimal('62'), 'Morty', 'Guillon', Decimal('3'), 'Schmedeman', 'Parachinar', Decimal('957677'), 'mguillon1p@reuters.com', 'gObqXR')\n",
      "(Decimal('63'), 'Earlie', 'Chattaway', Decimal('7'), '1st', 'Luofang', Decimal('105938'), 'echattaway1q@mayoclinic.com', '8cgC9ewWYKr')\n",
      "(Decimal('64'), 'Leeann', 'Spight', Decimal('95'), 'Florence', 'Marapat', Decimal('626224'), 'lspight1r@com.com', 'R6Zr4jfg5kl')\n",
      "(Decimal('65'), 'Jory', 'Burgiss', Decimal('7961'), 'Dorton', 'Jimsar', Decimal('529984'), 'jburgiss1s@stanford.edu', 'tSGe5j7qT9p')\n",
      "(Decimal('66'), 'Jacky', 'Greenroad', Decimal('13387'), 'Hoard', 'Huadi', Decimal('144446'), 'jgreenroad1t@dion.ne.jp', 'Waa7rQSD')\n",
      "(Decimal('67'), 'Sada', 'Kynton', Decimal('37'), 'American', 'Socos', Decimal('743868'), 'skynton1u@elpais.com', 'CbrbVOvo8aJ')\n",
      "(Decimal('68'), 'Casie', 'Galvan', Decimal('976'), 'Fieldstone', 'Jimsar', Decimal('864940'), 'cgalvan1v@ocn.ne.jp', 'MmGAwOo0')\n",
      "(Decimal('69'), 'Burch', 'Camock', Decimal('368'), 'Badeau', 'Turnišče', Decimal('527190'), 'bcamock1w@umn.edu', '93k2T3T')\n",
      "(Decimal('70'), 'Jobye', 'Louedey', Decimal('9843'), 'Eliot', 'Varginha', Decimal('275791'), 'jlouedey1x@infoseek.co.jp', 'tiG2Nw2')\n",
      "(Decimal('71'), 'Chris', 'Newlove', Decimal('29'), 'Morningstar', 'Sokyryany', Decimal('349060'), 'cnewlove1y@arizona.edu', 'rwHmvs85He8')\n",
      "(Decimal('72'), 'Merv', 'Gabbitis', Decimal('0'), 'Springs', 'Žulová', Decimal('982135'), 'mgabbitis1z@vistaprint.com', 'NjU8fuHxw2d')\n",
      "(Decimal('73'), 'Artair', 'Tuma', Decimal('50'), 'Northfield', 'Ivanteyevka', Decimal('358049'), 'atuma20@kickstarter.com', 'A99sqMfIT')\n",
      "(Decimal('74'), 'Ransell', 'Kleuer', Decimal('1'), 'Fuller', 'Paty do Alferes', Decimal('153669'), 'rkleuer21@booking.com', 'CG5FkHO')\n",
      "(Decimal('75'), 'Vincents', 'Searby', Decimal('244'), 'Crest Line', 'Campo Maior', Decimal('538432'), 'vsearby22@list-manage.com', 'MwHR7bn7sa69')\n",
      "(Decimal('76'), 'Caterina', 'Stanbury', Decimal('31'), 'Farmco', 'Taipingxu', Decimal('979496'), 'cstanbury23@jiathis.com', 'DTZRCjbnPkF')\n",
      "(Decimal('77'), 'Berthe', 'Rego', Decimal('797'), 'Summerview', 'Semarapura', Decimal('304521'), 'brego24@abc.net.au', 'hxFuV4CYZ')\n",
      "(Decimal('78'), 'Gothart', 'Sketch', Decimal('2'), 'Magdeline', 'Qianxu Zhen', Decimal('246951'), 'gsketch25@cafepress.com', 'iWhAxxtBA')\n",
      "(Decimal('79'), 'Owen', 'Venny', Decimal('84'), 'Sutteridge', 'Jadów', Decimal('803458'), 'ovenny26@jigsy.com', 'LqvVCbt')\n",
      "(Decimal('80'), 'Dene', 'McNysche', Decimal('67'), 'Schurz', 'Lodja', Decimal('933118'), 'dmcnysche27@aol.com', 'nygXhUL')\n",
      "(Decimal('81'), 'Franzen', 'Rubenczyk', Decimal('300'), 'Maryland', 'Elói Mendes', Decimal('422734'), 'frubenczyk28@twitter.com', 'oXvW0uF7')\n",
      "(Decimal('82'), 'Estelle', 'Smedley', Decimal('14277'), 'Di Loreto', 'Sinajana Village', Decimal('504227'), 'esmedley29@npr.org', 'N67Uu0UIek')\n",
      "(Decimal('83'), 'Dani', 'Boij', Decimal('6'), 'Randy', 'Negla', Decimal('546903'), 'dboij2a@discuz.net', 'JcoxcL')\n",
      "(Decimal('84'), 'Pancho', 'Meegan', Decimal('5'), 'Lotheville', 'Lizhai', Decimal('667428'), 'pmeegan2b@baidu.com', 'gQb207E')\n",
      "(Decimal('85'), 'Camile', 'Fincham', Decimal('0'), 'Magdeline', 'Tsuyama', Decimal('669930'), 'cfincham2c@stanford.edu', 'ZxH5f75flrd')\n",
      "(Decimal('86'), 'Tanner', 'Niesel', Decimal('78'), 'Haas', 'Dahuaishu', Decimal('439089'), 'tniesel2d@naver.com', 'oBMEba7')\n",
      "(Decimal('87'), 'Sidonnie', 'Poore', Decimal('9350'), 'Victoria', 'Portorož', Decimal('554343'), 'spoore2e@storify.com', 'kZOl7k9p1iA')\n",
      "(Decimal('88'), 'Xever', 'Rijkeseis', Decimal('452'), 'Becker', 'San Andres', Decimal('661761'), 'xrijkeseis2f@edublogs.org', '9hJ8pkxIL6C')\n",
      "(Decimal('89'), 'Northrop', 'Milbank', Decimal('6052'), 'Namekagon', 'Megati Kelod', Decimal('290346'), 'nmilbank2g@parallels.com', 'G0GqWm')\n",
      "(Decimal('90'), 'Irena', 'Katzmann', Decimal('4'), 'Jackson', 'Pining', Decimal('200541'), 'ikatzmann2h@vimeo.com', 'trFZxj664LG')\n",
      "(Decimal('91'), 'Augie', 'Follos', Decimal('64009'), 'Warrior', 'Chuqui Chuqui', Decimal('667760'), 'afollos2i@skype.com', 'YFQ7Fn')\n",
      "(Decimal('92'), 'Patricio', 'Penni', Decimal('219'), 'Vahlen', 'Puerto Barrios', Decimal('108936'), 'ppenni2j@purevolume.com', '5e7gmRn65')\n",
      "(Decimal('93'), 'Kerry', 'Wellstood', Decimal('97'), 'Quincy', 'Bongandanga', Decimal('505818'), 'kwellstood2k@wisc.edu', 'uQI3YGM3k2')\n",
      "(Decimal('94'), 'Bartlett', 'McKerley', Decimal('3'), 'Tony', 'Sankoutang', Decimal('906838'), 'bmckerley2l@imgur.com', 'soJghorq8v')\n",
      "(Decimal('95'), 'Janot', 'Iacopetti', Decimal('2928'), 'Lunder', 'Nayak', Decimal('827349'), 'jiacopetti2m@opera.com', 'CGfdkHTwvhnT')\n",
      "(Decimal('96'), 'Hayward', 'Haeslier', Decimal('6941'), 'Maple Wood', 'San Juan', Decimal('328237'), 'hhaeslier2n@reverbnation.com', 'ZGpBTJ')\n",
      "(Decimal('97'), 'Iolande', 'Windibank', Decimal('85564'), 'Little Fleur', 'Farriar', Decimal('533423'), 'iwindibank2o@imageshack.us', 'fPOKvZ1Xc')\n",
      "(Decimal('98'), 'Cassondra', 'Raycroft', Decimal('6'), 'Mallard', 'Novo', Decimal('681832'), 'craycroft2p@usatoday.com', 'Fy1GMxdci')\n",
      "(Decimal('99'), 'Minnaminnie', 'Pietrzak', Decimal('512'), 'David', 'Stony Hill', Decimal('413768'), 'mpietrzak2q@sohu.com', 'p9BXgU1qGcP8')\n",
      "(Decimal('100'), 'Maegan', 'Ranfield', Decimal('50839'), '4th', 'Pragen Selatan', Decimal('482296'), 'mranfield2r@discovery.com', 'Cw8rOq0LnB')\n"
     ]
    }
   ],
   "source": [
    "my_query = \"select * from Customer\"\n",
    "\n",
    "cursor.execute(my_query)\n",
    "\n",
    "print(\"total number of rows in the table\", cursor.rowcount)\n",
    "\n",
    "for x in cursor:\n",
    "    print(x)"
   ]
  },
  {
   "cell_type": "code",
   "execution_count": 53,
   "metadata": {},
   "outputs": [
    {
     "name": "stdout",
     "output_type": "stream",
     "text": [
      "2\n"
     ]
    }
   ],
   "source": [
    "#select customer_ID from email address\n",
    "select_customer_query = \"select customer_ID from Customer where email_address like %s\"\n",
    "test_val_customer = []\n",
    "test_val_customer.append(\"%usa%\")\n",
    "\n",
    "cursor.execute(select_customer_query, test_val_customer)\n",
    "\n",
    "test_iterator = iter(cursor.fetchall())\n",
    "\n",
    "print(len(list(test_iterator)))\n",
    "\n",
    "for row in list(test_iterator):\n",
    "    print(row)\n"
   ]
  },
  {
   "cell_type": "code",
   "execution_count": null,
   "metadata": {},
   "outputs": [],
   "source": [
    "#Add product to cart\n",
    "#Check if that product is already present\n",
    "check_if_product_exists_in_cart = \"select 1 from Shopping_Cart where exists(select * from Shopping_Cart where customer_ID = customer_id and Product_ID = product_id\"\n",
    "cursor.execute(check_if_prousa_exists_in_cart)\n",
    "add_product_to_cart = \"insert into \"count()len()list_cursorlist()cursorlist()cursorprint()test+i_iteratorlist()testi_iterator"
   ]
  },
  {
   "cell_type": "code",
   "execution_count": null,
   "metadata": {},
   "outputs": [],
   "source": []
  }
 ],
 "metadata": {
  "interpreter": {
   "hash": "249688764a5a84225eac094645d04e39ce308215ea230f46da4636bc01cef90c"
  },
  "kernelspec": {
   "display_name": "Python 3.8.12 ('v-env')",
   "language": "python",
   "name": "python3"
  },
  "language_info": {
   "codemirror_mode": {
    "name": "ipython",
    "version": 3
   },
   "file_extension": ".py",
   "mimetype": "text/x-python",
   "name": "python",
   "nbconvert_exporter": "python",
   "pygments_lexer": "ipython3",
   "version": "3.8.8"
  },
  "orig_nbformat": 4
 },
 "nbformat": 4,
 "nbformat_minor": 2
}
