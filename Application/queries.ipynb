{
 "cells": [
  {
   "cell_type": "code",
   "execution_count": 164,
   "metadata": {},
   "outputs": [
    {
     "name": "stdout",
     "output_type": "stream",
     "text": [
      "1\n",
      "(131, 'test', 'test', Decimal('3434'), 'testing', 'test', Decimal('340304'), 'testing@testing', 'testing')\n"
     ]
    },
    {
     "data": {
      "text/plain": [
       "list"
      ]
     },
     "execution_count": 164,
     "metadata": {},
     "output_type": "execute_result"
    }
   ],
   "source": [
    "#select customer_ID from email address\n",
    "select_customer_query = \"select * from Customer where email_address = %s and password = %s\"\n",
    "test_val_customer = []\n",
    "test_val_customer.append(\"testing@testing\")\n",
    "test_val_customer.append(\"testing\")\n",
    "\n",
    "cursor.execute(select_customer_query, test_val_customer)\n",
    "\n",
    "test_iterator = list(iter(cursor.fetchall()))\n",
    "\n",
    "print(len(test_iterator))\n",
    "\n",
    "for row in list(test_iterator):\n",
    "    print(row)\n",
    "\n",
    "type(test_iterator)\n"
   ]
  },
  {
   "cell_type": "code",
   "execution_count": 105,
   "metadata": {},
   "outputs": [],
   "source": [
    "#Add product to cart\n",
    "#Check if that product is already present\n",
    "check_if_product_exists_in_cart = \"select * from Shopping_Cart where exists(select * from Shopping_Cart where customer_ID = %s and Product_ID = %s)\"\n",
    "cursor.execute(check_if_product_exists_in_cart,[1,1])\n",
    "product_present = False\n",
    "if len(list(iter(cursor.fetchall()))) != 0:\n",
    "        product_present = True\n",
    "# print(product_present)\n",
    "if(product_present == False):\n",
    "    insert_product = \"Insert into Shopping_Cart values(%s,%s,%s)\"\n",
    "    cursor.execute(insert_product,[1,1,5])\n",
    "    # cursor_ret(cursor)\n",
    "if(product_present == True):\n",
    "    increase_product_quantity = \"Update Shopping_Cart set quantity = quantity + %s where customer_ID = %s and Product_ID = %s\"\n",
    "    cursor.execute(increase_product_quantity,[3,1,1])\n",
    "mydb.commit()\n",
    "    # cursor_ret(cursor)\n",
    "# for \n",
    "#add_product_to_cart = \"insert into \"count()len()list_cursorlist()cursorlist()cursorprint()test+i_iteratorlist()testi_iterator"
   ]
  },
  {
   "cell_type": "code",
   "execution_count": 114,
   "metadata": {},
   "outputs": [],
   "source": [
    "#insert_values_into_order = \"insert into Orders select %s,sum(price),avg(GST_percentage),avg(Discount_Percentage) from Product natural join Shopping_cart where Customer_id = %s\"\n",
    "# cursor.execute(insert_values_into_order,[100,1])\n",
    "# db.commit()\n"
   ]
  },
  {
   "cell_type": "code",
   "execution_count": 78,
   "metadata": {},
   "outputs": [
    {
     "name": "stdout",
     "output_type": "stream",
     "text": [
      "['temp1', 'temp2', 53, 'tempest', 'Temp_est', 103042, 'temp@tetmpest.ror8g', 'temper']\n"
     ]
    }
   ],
   "source": [
    "#sign up\n",
    "#requires first_name, last_name, house_number, locality, city, pincode, email_address, password\n",
    "\n",
    "register_statement = \"INSERT INTO Customer(First_name, Last_name, House_number, Locality, City, Pincode, email_address, password) values (%s, %s, %s, %s, %s, %s, %s, %s)\"\n",
    "\n",
    "temp_first_name = \"temp1\"\n",
    "temp_last_name = \"temp2\"\n",
    "temp_house_no = 53\n",
    "temp_locality = \"tempest\"\n",
    "temp_city = \"Temp_est\"\n",
    "temp_pincode = 103042\n",
    "temp_email_add = \"temp@tetmpest.ror8g\"\n",
    "temp_passwd = \"temper\"\n",
    "\n",
    "tup = [temp_first_name, temp_last_name, temp_house_no, temp_locality, temp_city, temp_pincode, temp_email_add, temp_passwd]\n",
    "\n",
    "print(tup)\n",
    "\n",
    "try:\n",
    "    cursor.execute(register_statement, tup)\n",
    "    mydb.commit()\n",
    "except mysql.connector.Error as e:\n",
    "    print(e)"
   ]
  },
  {
   "cell_type": "code",
   "execution_count": 82,
   "metadata": {},
   "outputs": [
    {
     "name": "stdout",
     "output_type": "stream",
     "text": [
      "WE FOUND IT!\n"
     ]
    }
   ],
   "source": [
    "#check valid email address \n",
    "check_valid_email = \"select customer_ID from customer where customer_id = %s\"\n",
    "temp_email_add = \"temp@tetmpest.ror8g\"\n",
    "\n",
    "try:\n",
    "    cursor.execute(check_valid_email, [temp_email_add])\n",
    "    if(len(list(iter(cursor.fetchall()))) != 0):\n",
    "        print(\"WE DIDN'T FIND IT\")\n",
    "    else:\n",
    "        print(\"WE FOUND IT!\")\n",
    "except:\n",
    "    pass\n",
    "\n",
    "\n",
    "        "
   ]
  },
  {
   "cell_type": "code",
   "execution_count": 158,
   "metadata": {},
   "outputs": [],
   "source": [
    "## cursor.execute(insert_values_into_order,[100,1])\n",
    "# db.commit()\n",
    "# Important to include this but insiayliaze only once somewhere order_id = 116\n",
    "product_id = 1\n",
    "customer_id = 1\n",
    "quantity = 5\n",
    "# print(order_id)\n",
    "insert_values_into_order = \"insert into Orders select %s,sum(price),avg(GST_percentage),avg(Discount_Percentage) from Product natural join Shopping_cart where Customer_id = %s\"\n",
    "cursor.execute(insert_values_into_order,[order_id,customer_id])\n",
    "\n",
    "\n",
    "\n",
    "extract_product_ids = \"select product_id from Shopping_Cart where Customer_id = %s\"\n",
    "cursor.execute(extract_product_ids,[customer_id])\n",
    "products_iterator = iter(cursor.fetchall())\n",
    "product_id_list = list(products_iterator)\n",
    "\n",
    "extract_quantity = \"select quantity from Shopping_Cart where Customer_id = %s\"\n",
    "cursor.execute(extract_quantity,[customer_id])\n",
    "quantity_iterator = iter(cursor.fetchall())\n",
    "quantity_id_list = list(quantity_iterator)\n",
    "\n",
    "for i in range(len(quantity_id_list)):\n",
    "    product = product_id_list[i][0]\n",
    "    quantity = quantity_id_list[i][0]\n",
    "    check_if_product_aready_ordered = \"select * from order_products where exists(select * from order_products where order_id = %s and Product_ID = %s)\"\n",
    "    cursor.execute(check_if_product_aready_ordered,[order_id,product])\n",
    "    product_ordered = False\n",
    "    if len(list(iter(cursor.fetchall()))) != 0:\n",
    "            product_ordered = True\n",
    "    # print(product_present)\n",
    "    if(product_ordered == False):\n",
    "        insert_product = \"Insert into order_products values(%s,%s,%s)\"\n",
    "        cursor.execute(insert_product,[order_id,product,quantity])\n",
    "        # cursor_ret(cursor)\n",
    "    if(product_ordered == True):\n",
    "        increase_product_quantity = \"Update order_products set quantity = quantity + %s where order_id = %s and Product_ID = %s\"\n",
    "        cursor.execute(increase_product_quantity,[order_id,product,quantity])\n",
    "order_id +=1\n",
    "mydb.commit()"
   ]
  },
  {
   "cell_type": "code",
   "execution_count": null,
   "metadata": {},
   "outputs": [],
   "source": [
    "#After checkout has been done\n",
    "Order_ID numeric(30,0) primary key, \n",
    "    Payment_Method varchar(30), \n",
    "    Transaction_Status boolean, \n",
    "    transaction_time Timestamp, \n",
    "    Customer_ID numeric(30,0), \n",
    "    Coupon_Code varchar(30),\n",
    "order_id = 116\n",
    "#Payment_method = \"Paytm\"\n",
    "Transaction_status = \"Delivered\"\n",
    "transaction_time = \"2021:8:13 21:30:53\"\n",
    "Customer_ID = 1\n",
    "Coupon_Code = \"AAA\"\n",
    "insert_into_transaction values(%s,%s,%s,%s,%s,%s)\n",
    "cursor.execute(order_id,Payment_method,Transaction_status,transaction_time,Customer_ID,Coupon_Code)\n"
   ]
  }
 ],
 "metadata": {
  "interpreter": {
   "hash": "249688764a5a84225eac094645d04e39ce308215ea230f46da4636bc01cef90c"
  },
  "kernelspec": {
   "display_name": "Python 3.8.12 ('v-env')",
   "language": "python",
   "name": "python3"
  },
  "language_info": {
   "codemirror_mode": {
    "name": "ipython",
    "version": 3
   },
   "file_extension": ".py",
   "mimetype": "text/x-python",
   "name": "python",
   "nbconvert_exporter": "python",
   "pygments_lexer": "ipython3",
   "version": "3.8.8"
  },
  "orig_nbformat": 4
 },
 "nbformat": 4,
 "nbformat_minor": 2
}
