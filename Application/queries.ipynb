{
 "cells": [
  {
   "cell_type": "code",
   "execution_count": 39,
   "metadata": {},
   "outputs": [
    {
     "name": "stdout",
     "output_type": "stream",
     "text": [
      "2\n"
     ]
    }
   ],
   "source": [
    "#select customer_ID from email address\n",
    "select_customer_query = \"select customer_ID from Customer where email_address like %s\"\n",
    "test_val_customer = []\n",
    "test_val_customer.append(\"%usa%\")\n",
    "\n",
    "cursor.execute(select_customer_query, test_val_customer)\n",
    "\n",
    "test_iterator = iter(cursor.fetchall())\n",
    "\n",
    "print(len(list(test_iterator)))\n",
    "\n",
    "for row in list(test_iterator):\n",
    "    print(row)\n"
   ]
  },
  {
   "cell_type": "code",
   "execution_count": 50,
   "metadata": {},
   "outputs": [
    {
     "name": "stdout",
     "output_type": "stream",
     "text": [
      "False\n"
     ]
    }
   ],
   "source": [
    "#Add product to cart\n",
    "#Check if that product is already present\n",
    "check_if_product_exists_in_cart = \"select * from Shopping_Cart where exists(select * from Shopping_Cart where customer_ID = %s and Product_ID = %s)\"\n",
    "cursor.execute(check_if_product_exists_in_cart,[1,1])\n",
    "product_present = False\n",
    "if len(list(iter(cursor.fetchall()))) != 0:\n",
    "        product_present = True\n",
    "# print(product_present)\n",
    "if(product_present == False):\n",
    "    insert_product = \"Insert into Shopping_Cart values(%s,%s,%s)\"\n",
    "    cursor.execute(insert_product,[1,1,5])\n",
    "    # cursor_ret(cursor)\n",
    "if(product_present == True):\n",
    "    increase_product_quantity = \"Update Shopping_Cart set quantity = quantity + %s where customer_ID = %s and Product_ID = %s\"\n",
    "    cursor.execute(increase_product_quantity,[3,1,1])\n",
    "mydb.commit()\n",
    "    # cursor_ret(cursor)\n",
    "# for \n",
    "#add_product_to_cart = \"insert into \"count()len()list_cursorlist()cursorlist()cursorprint()test+i_iteratorlist()testi_iterator"
   ]
  },
  {
   "cell_type": "code",
   "execution_count": null,
   "metadata": {},
   "outputs": [],
   "source": []
  },
  {
   "cell_type": "code",
   "execution_count": 55,
   "metadata": {},
   "outputs": [
    {
     "name": "stdout",
     "output_type": "stream",
     "text": [
      "1062 (23000): Duplicate entry 'temp@tempest.org' for key 'customer.email_address'\n"
     ]
    }
   ],
   "source": [
    "#sign up\n",
    "#requires first_name, last_name, house_number, locality, city, pincode, email_address, password\n",
    "\n",
    "register_statement = \"INSERT INTO Customer(First_name, Last_name, House_number, Locality, City, Pincode, email_address, password) values (%s, %s, %s, %s, %s, %s, %s, %s)\"\n",
    "\n",
    "temp_first_name = \"temp1\"\n",
    "temp_last_name = \"temp2\"\n",
    "temp_house_no = 53\n",
    "temp_locality = \"tempest\"\n",
    "temp_city = \"Temp_est\"\n",
    "temp_pincode = 103042\n",
    "temp_email_add = \"temp@tempest.org\"\n",
    "temp_passwd = \"temper\"\n",
    "\n",
    "tup = [temp_first_name, temp_last_name, temp_house_no, temp_locality, temp_city, temp_pincode, temp_email_add, temp_passwd]\n",
    "\n",
    "try:\n",
    "    cursor.execute(register_statement, tup)\n",
    "except mysql.connector.Error as e:\n",
    "    print(e)"
   ]
  },
  {
   "cell_type": "code",
   "execution_count": null,
   "metadata": {},
   "outputs": [],
   "source": [
    "\n",
    "        "
   ]
  },
  {
   "cell_type": "code",
   "execution_count": null,
   "metadata": {},
   "outputs": [],
   "source": [
    "sss\n",
    "cursor.commitymydb.commit()    try:\n",
    "except: \n",
    "     mMySQLDBdb.Error, e:\n",
    "    print()e\n",
    "    prin()t()cheh\"c\"\"chehErroras MySQLIInterfaceErrorerorsqlerror\n",
    " \n",
    "\n"
   ]
  }
 ],
 "metadata": {
  "interpreter": {
   "hash": "249688764a5a84225eac094645d04e39ce308215ea230f46da4636bc01cef90c"
  },
  "kernelspec": {
   "display_name": "Python 3.8.12 ('v-env')",
   "language": "python",
   "name": "python3"
  },
  "language_info": {
   "codemirror_mode": {
    "name": "ipython",
    "version": 3
   },
   "file_extension": ".py",
   "mimetype": "text/x-python",
   "name": "python",
   "nbconvert_exporter": "python",
   "pygments_lexer": "ipython3",
   "version": "3.8.8"
  },
  "orig_nbformat": 4
 },
 "nbformat": 4,
 "nbformat_minor": 2
}
