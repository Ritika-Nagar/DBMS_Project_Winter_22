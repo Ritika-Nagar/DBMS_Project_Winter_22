{
 "cells": [
  {
   "cell_type": "code",
   "execution_count": 2,
   "metadata": {},
   "outputs": [],
   "source": [
    "import mysql.connector"
   ]
  },
  {
   "cell_type": "code",
   "execution_count": 5,
   "metadata": {},
   "outputs": [],
   "source": [
    "mydb = mysql.connector.connect(host = \"localhost\",\n",
    "                               user = \"root\",\n",
    "                               password = \"Madhava2207\",\n",
    "                               database = \"online_shopping\")\n",
    "\n",
    "\n",
    "cursor = mydb.cursor(buffered = True)\n"
   ]
  },
  {
   "cell_type": "code",
   "execution_count": null,
   "metadata": {},
   "outputs": [],
   "source": [
    "my_query = \"select * from Customer\"\n",
    "\n",
    "cursor.execute(my_query)\n",
    "\n",
    "print(\"total number of rows in the table\", cursor.rowcount)\n",
    "\n",
    "for x in cursor:\n",
    "    print(x)"
   ]
  },
  {
   "cell_type": "code",
   "execution_count": null,
   "metadata": {},
   "outputs": [],
   "source": [
    "#select customer_ID from email address\n",
    "select_customer_query = \"select customer_ID from Customer where email_address = %s\"\n",
    "cursor.execute(add_employee, data_employee)\n",
    "test_val_customer = []\n",
    "test_val_customer.append"
   ]
  },
  {
   "cell_type": "code",
   "execution_count": null,
   "metadata": {},
   "outputs": [],
   "source": [
    "#select "
   ]
  },
  {
   "cell_type": "code",
   "execution_count": null,
   "metadata": {},
   "outputs": [],
   "source": []
  },
  {
   "cell_type": "code",
   "execution_count": null,
   "metadata": {},
   "outputs": [],
   "source": []
  }
 ],
 "metadata": {
  "interpreter": {
   "hash": "249688764a5a84225eac094645d04e39ce308215ea230f46da4636bc01cef90c"
  },
  "kernelspec": {
   "display_name": "Python 3.8.12 ('v-env')",
   "language": "python",
   "name": "python3"
  },
  "language_info": {
   "codemirror_mode": {
    "name": "ipython",
    "version": 3
   },
   "file_extension": ".py",
   "mimetype": "text/x-python",
   "name": "python",
   "nbconvert_exporter": "python",
   "pygments_lexer": "ipython3",
   "version": "3.8.8"
  },
  "orig_nbformat": 4
 },
 "nbformat": 4,
 "nbformat_minor": 2
}
