{
 "cells": [
  {
   "cell_type": "code",
   "execution_count": 2,
   "metadata": {},
   "outputs": [],
   "source": [
    "import mysql.connector"
   ]
  },
  {
   "cell_type": "code",
   "execution_count": 4,
   "metadata": {},
   "outputs": [],
   "source": [
    "mydb = mysql.connector.Connect(host = \"localhost\",\n",
    "                            database = \"online_shopping\",\n",
    "                            user = \"root\",\n",
    "                            password = \"Madhava2207\")"
   ]
  },
  {
   "cell_type": "code",
   "execution_count": 5,
   "metadata": {},
   "outputs": [],
   "source": [
    "cursor = mydb.cursor(buffered = True)"
   ]
  },
  {
   "cell_type": "code",
   "execution_count": 2,
   "metadata": {},
   "outputs": [
    {
     "ename": "NameError",
     "evalue": "name 'cursor' is not defined",
     "output_type": "error",
     "traceback": [
      "\u001b[1;31m---------------------------------------------------------------------------\u001b[0m",
      "\u001b[1;31mNameError\u001b[0m                                 Traceback (most recent call last)",
      "\u001b[1;32m<ipython-input-2-43f86e2a84d0>\u001b[0m in \u001b[0;36m<module>\u001b[1;34m\u001b[0m\n\u001b[0;32m      5\u001b[0m \u001b[0mtest_val_customer\u001b[0m\u001b[1;33m.\u001b[0m\u001b[0mappend\u001b[0m\u001b[1;33m(\u001b[0m\u001b[1;34m\"testing\"\u001b[0m\u001b[1;33m)\u001b[0m\u001b[1;33m\u001b[0m\u001b[1;33m\u001b[0m\u001b[0m\n\u001b[0;32m      6\u001b[0m \u001b[1;33m\u001b[0m\u001b[0m\n\u001b[1;32m----> 7\u001b[1;33m \u001b[0mcursor\u001b[0m\u001b[1;33m.\u001b[0m\u001b[0mexecute\u001b[0m\u001b[1;33m(\u001b[0m\u001b[0mselect_customer_query\u001b[0m\u001b[1;33m,\u001b[0m \u001b[0mtest_val_customer\u001b[0m\u001b[1;33m)\u001b[0m\u001b[1;33m\u001b[0m\u001b[1;33m\u001b[0m\u001b[0m\n\u001b[0m\u001b[0;32m      8\u001b[0m \u001b[1;33m\u001b[0m\u001b[0m\n\u001b[0;32m      9\u001b[0m \u001b[0mtest_iterator\u001b[0m \u001b[1;33m=\u001b[0m \u001b[0mlist\u001b[0m\u001b[1;33m(\u001b[0m\u001b[0miter\u001b[0m\u001b[1;33m(\u001b[0m\u001b[0mcursor\u001b[0m\u001b[1;33m.\u001b[0m\u001b[0mfetchall\u001b[0m\u001b[1;33m(\u001b[0m\u001b[1;33m)\u001b[0m\u001b[1;33m)\u001b[0m\u001b[1;33m)\u001b[0m\u001b[1;33m\u001b[0m\u001b[1;33m\u001b[0m\u001b[0m\n",
      "\u001b[1;31mNameError\u001b[0m: name 'cursor' is not defined"
     ]
    }
   ],
   "source": [
    "#select customer_ID from email address\n",
    "select_customer_query = \"select * from Customer where email_address = %s and password = %s\"\n",
    "test_val_customer = []\n",
    "test_val_customer.append(\"testing@testing\")\n",
    "test_val_customer.append(\"testing\")\n",
    "\n",
    "cursor.execute(select_customer_query, test_val_customer)\n",
    "\n",
    "test_iterator = list(iter(cursor.fetchall()))\n",
    "\n",
    "print(len(test_iterator))\n",
    "\n",
    "for row in list(test_iterator):\n",
    "    print(row)\n",
    "\n",
    "type(test_iterator)\n"
   ]
  },
  {
   "cell_type": "code",
   "execution_count": 9,
   "metadata": {},
   "outputs": [],
   "source": [
    "#Add product to cart\n",
    "#Check if that product is already present\n",
    "check_if_product_exists_in_cart = \"select * from Shopping_Cart where exists(select * from Shopping_Cart where customer_ID = %s and Product_ID = %s)\"\n",
    "cursor.execute(check_if_product_exists_in_cart,[1,1])\n",
    "product_present = False\n",
    "if len(list(iter(cursor.fetchall()))) != 0:\n",
    "        product_present = True\n",
    "# print(product_present)\n",
    "if(product_present == False):\n",
    "    insert_product = \"Insert into Shopping_Cart values(%s,%s,%s)\"\n",
    "    cursor.execute(insert_product,[1,1,5])\n",
    "    # cursor_ret(cursor)\n",
    "if(product_present == True):\n",
    "    increase_product_quantity = \"Update Shopping_Cart set quantity = quantity + %s where customer_ID = %s and Product_ID = %s\"\n",
    "    cursor.execute(increase_product_quantity,[3,1,1])\n",
    "mydb.commit()\n",
    "    # cursor_ret(cursor)\n",
    "# for \n",
    "#add_product_to_cart = \"insert into \"count()len()list_cursorlist()cursorlist()cursorprint()test+i_iteratorlist()testi_iterator"
   ]
  },
  {
   "cell_type": "code",
   "execution_count": 10,
   "metadata": {},
   "outputs": [],
   "source": [
    "#insert_values_into_order = \"insert into Orders select %s,sum(price),avg(GST_percentage),avg(Discount_Percentage) from Product natural join Shopping_cart where Customer_id = %s\"\n",
    "# cursor.execute(insert_values_into_order,[100,1])\n",
    "# db.commit()\n"
   ]
  },
  {
   "cell_type": "code",
   "execution_count": 11,
   "metadata": {},
   "outputs": [
    {
     "name": "stdout",
     "output_type": "stream",
     "text": [
      "['temp1', 'temp2', 53, 'tempest', 'Temp_est', 103042, 'temp@tetmpest.ror8g', 'temper']\n"
     ]
    }
   ],
   "source": [
    "#sign up\n",
    "#requires first_name, last_name, house_number, locality, city, pincode, email_address, password\n",
    "\n",
    "register_statement = \"INSERT INTO Customer(First_name, Last_name, House_number, Locality, City, Pincode, email_address, password) values (%s, %s, %s, %s, %s, %s, %s, %s)\"\n",
    "\n",
    "temp_first_name = \"temp1\"\n",
    "temp_last_name = \"temp2\"\n",
    "temp_house_no = 53\n",
    "temp_locality = \"tempest\"\n",
    "temp_city = \"Temp_est\"\n",
    "temp_pincode = 103042\n",
    "temp_email_add = \"temp@tetmpest.ror8g\"\n",
    "temp_passwd = \"temper\"\n",
    "\n",
    "tup = [temp_first_name, temp_last_name, temp_house_no, temp_locality, temp_city, temp_pincode, temp_email_add, temp_passwd]\n",
    "\n",
    "print(tup)\n",
    "\n",
    "try:\n",
    "    cursor.execute(register_statement, tup)\n",
    "    mydb.commit()\n",
    "except mysql.connector.Error as e:\n",
    "    print(e)"
   ]
  },
  {
   "cell_type": "code",
   "execution_count": 12,
   "metadata": {},
   "outputs": [
    {
     "name": "stdout",
     "output_type": "stream",
     "text": [
      "WE FOUND IT!\n"
     ]
    }
   ],
   "source": [
    "#check valid email address \n",
    "check_valid_email = \"select customer_ID from customer where customer_id = %s\"\n",
    "temp_email_add = \"temp@tetmpest.ror8g\"\n",
    "\n",
    "try:\n",
    "    cursor.execute(check_valid_email, [temp_email_add])\n",
    "    if(len(list(iter(cursor.fetchall()))) != 0):\n",
    "        print(\"WE DIDN'T FIND IT\")\n",
    "    else:\n",
    "        print(\"WE FOUND IT!\")\n",
    "except:\n",
    "    pass\n",
    "\n",
    "\n",
    "        "
   ]
  },
  {
   "cell_type": "code",
   "execution_count": 13,
   "metadata": {},
   "outputs": [
    {
     "ename": "NameError",
     "evalue": "name 'order_id' is not defined",
     "output_type": "error",
     "traceback": [
      "\u001b[1;31m---------------------------------------------------------------------------\u001b[0m",
      "\u001b[1;31mNameError\u001b[0m                                 Traceback (most recent call last)",
      "\u001b[1;32m<ipython-input-13-6e895fca7157>\u001b[0m in \u001b[0;36m<module>\u001b[1;34m\u001b[0m\n\u001b[0;32m      7\u001b[0m \u001b[1;31m# print(order_id)\u001b[0m\u001b[1;33m\u001b[0m\u001b[1;33m\u001b[0m\u001b[1;33m\u001b[0m\u001b[0m\n\u001b[0;32m      8\u001b[0m \u001b[0minsert_values_into_order\u001b[0m \u001b[1;33m=\u001b[0m \u001b[1;34m\"insert into Orders select %s,sum(price),avg(GST_percentage),avg(Discount_Percentage) from Product natural join Shopping_cart where Customer_id = %s\"\u001b[0m\u001b[1;33m\u001b[0m\u001b[1;33m\u001b[0m\u001b[0m\n\u001b[1;32m----> 9\u001b[1;33m \u001b[0mcursor\u001b[0m\u001b[1;33m.\u001b[0m\u001b[0mexecute\u001b[0m\u001b[1;33m(\u001b[0m\u001b[0minsert_values_into_order\u001b[0m\u001b[1;33m,\u001b[0m\u001b[1;33m[\u001b[0m\u001b[0morder_id\u001b[0m\u001b[1;33m,\u001b[0m\u001b[0mcustomer_id\u001b[0m\u001b[1;33m]\u001b[0m\u001b[1;33m)\u001b[0m\u001b[1;33m\u001b[0m\u001b[1;33m\u001b[0m\u001b[0m\n\u001b[0m\u001b[0;32m     10\u001b[0m \u001b[1;33m\u001b[0m\u001b[0m\n\u001b[0;32m     11\u001b[0m \u001b[1;33m\u001b[0m\u001b[0m\n",
      "\u001b[1;31mNameError\u001b[0m: name 'order_id' is not defined"
     ]
    }
   ],
   "source": [
    "## cursor.execute(insert_values_into_order,[100,1])\n",
    "# db.commit()\n",
    "# Important to include this but insiayliaze only once somewhere order_id = 116\n",
    "product_id = 1\n",
    "customer_id = 1\n",
    "quantity = 5\n",
    "# print(order_id)\n",
    "insert_values_into_order = \"insert into Orders select %s,sum(price),avg(GST_percentage),avg(Discount_Percentage) from Product natural join Shopping_cart where Customer_id = %s\"\n",
    "cursor.execute(insert_values_into_order,[order_id,customer_id])\n",
    "\n",
    "\n",
    "\n",
    "extract_product_ids = \"select product_id from Shopping_Cart where Customer_id = %s\"\n",
    "cursor.execute(extract_product_ids,[customer_id])\n",
    "products_iterator = iter(cursor.fetchall())\n",
    "product_id_list = list(products_iterator)\n",
    "\n",
    "extract_quantity = \"select quantity from Shopping_Cart where Customer_id = %s\"\n",
    "cursor.execute(extract_quantity,[customer_id])\n",
    "quantity_iterator = iter(cursor.fetchall())\n",
    "quantity_id_list = list(quantity_iterator)\n",
    "\n",
    "for i in range(len(quantity_id_list)):\n",
    "    product = product_id_list[i][0]\n",
    "    quantity = quantity_id_list[i][0]\n",
    "    check_if_product_aready_ordered = \"select * from order_products where exists(select * from order_products where order_id = %s and Product_ID = %s)\"\n",
    "    cursor.execute(check_if_product_aready_ordered,[order_id,product])\n",
    "    product_ordered = False\n",
    "    if len(list(iter(cursor.fetchall()))) != 0:\n",
    "            product_ordered = True\n",
    "    # print(product_present)\n",
    "    if(product_ordered == False):\n",
    "        insert_product = \"Insert into order_products values(%s,%s,%s)\"\n",
    "        cursor.execute(insert_product,[order_id,product,quantity])\n",
    "        # cursor_ret(cursor)\n",
    "    if(product_ordered == True):\n",
    "        increase_product_quantity = \"Update order_products set quantity = quantity + %s where order_id = %s and Product_ID = %s\"\n",
    "        cursor.execute(increase_product_quantity,[order_id,product,quantity])\n",
    "order_id +=1\n",
    "mydb.commit()"
   ]
  },
  {
   "cell_type": "code",
   "execution_count": 14,
   "metadata": {},
   "outputs": [
    {
     "ename": "SyntaxError",
     "evalue": "invalid syntax (<ipython-input-14-a5d3bcda0389>, line 2)",
     "output_type": "error",
     "traceback": [
      "\u001b[1;36m  File \u001b[1;32m\"<ipython-input-14-a5d3bcda0389>\"\u001b[1;36m, line \u001b[1;32m2\u001b[0m\n\u001b[1;33m    Order_ID numeric(30,0) primary key,\u001b[0m\n\u001b[1;37m             ^\u001b[0m\n\u001b[1;31mSyntaxError\u001b[0m\u001b[1;31m:\u001b[0m invalid syntax\n"
     ]
    }
   ],
   "source": [
    "#After checkout has been done\n",
    "Order_ID numeric(30,0) primary key, \n",
    "    Payment_Method varchar(30), \n",
    "    Transaction_Status boolean, \n",
    "    transaction_time Timestamp, \n",
    "    Customer_ID numeric(30,0), \n",
    "    Coupon_Code varchar(30),\n",
    "order_id = 116\n",
    "#Payment_method = \"Paytm\"\n",
    "Transaction_status = \"Delivered\"\n",
    "transaction_time = \"2021:8:13 21:30:53\"\n",
    "Customer_ID = 1\n",
    "Coupon_Code = \"AAA\"\n",
    "insert_into_transaction values(%s,%s,%s,%s,%s,%s)\n",
    "cursor.execute(order_id,Payment_method,Transaction_status,transaction_time,Customer_ID,Coupon_Code)\n"
   ]
  },
  {
   "cell_type": "code",
   "execution_count": 17,
   "metadata": {},
   "outputs": [
    {
     "name": "stdout",
     "output_type": "stream",
     "text": [
      "(50, 'Rice - Brown', Decimal('10'), '5 Barnett Ponikiew 288549', datetime.datetime(2021, 4, 8, 5, 57, 30), datetime.datetime(2021, 4, 27, 0, 52, 32), Decimal('74700.23'))\n",
      "74700.23\n"
     ]
    },
    {
     "data": {
      "text/plain": [
       "tuple"
      ]
     },
     "execution_count": 17,
     "metadata": {},
     "output_type": "execute_result"
    }
   ],
   "source": [
    "statement = \"select Order_ID, Product_Name, Quantity, Delivery_address, Transaction_Time, Delivery_Date, Total_Price from customer_order where customer_id = %s\"\n",
    "\n",
    "cursor.clear_attributes()\n",
    "cursor.execute(statement, [5])\n",
    "results = list(iter(cursor.fetchall()))\n",
    "\n",
    "print(results[0])\n",
    "statement = \"select Order_ID, Product_Name, Quantity, Delivery_address, Transaction_Time, Delivery_Date, Total_Price from customer_order where customer_id = %s\"\n",
    "\n",
    "cursor.clear_attributes()\n",
    "cursor.execute(statement, [5])\n",
    "results = list(iter(cursor.fetchall()))\n",
    "\n",
    "print(results[0])\n",
    "\n",
    "type(results[0])\n"
   ]
  },
  {
   "cell_type": "code",
   "execution_count": 8,
   "metadata": {},
   "outputs": [
    {
     "name": "stdout",
     "output_type": "stream",
     "text": [
      "[(6, Decimal('5034'), None, Decimal('3040'))]\n"
     ]
    }
   ],
   "source": [
    "null_val = \"select * from warehouse where warehouse_id = 6\"\n",
    "\n",
    "cursor.execute(null_val)\n",
    "\n",
    "my_list = list(iter(cursor.fetchall()))\n",
    "\n",
    "print(my_list)\n",
    "\n",
    "my_list[2]"
   ]
  }
 ],
 "metadata": {
  "interpreter": {
   "hash": "249688764a5a84225eac094645d04e39ce308215ea230f46da4636bc01cef90c"
  },
  "kernelspec": {
   "display_name": "Python 3.8.12 ('v-env')",
   "language": "python",
   "name": "python3"
  },
  "language_info": {
   "codemirror_mode": {
    "name": "ipython",
    "version": 3
   },
   "file_extension": ".py",
   "mimetype": "text/x-python",
   "name": "python",
   "nbconvert_exporter": "python",
   "pygments_lexer": "ipython3",
   "version": "3.8.8"
  },
  "orig_nbformat": 4
 },
 "nbformat": 4,
 "nbformat_minor": 2
}
